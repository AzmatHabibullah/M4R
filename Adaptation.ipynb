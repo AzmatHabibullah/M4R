{
 "cells": [
  {
   "cell_type": "markdown",
   "metadata": {},
   "source": [
    "# Chern Numbers of (rational)fractionally filled 1d Charge Density Wave Insulators"
   ]
  },
  {
   "cell_type": "markdown",
   "metadata": {},
   "source": [
    "Saumya Biswas (saumyab@uoregon.edu)"
   ]
  },
  {
   "cell_type": "markdown",
   "metadata": {},
   "source": [
    "1d Charge Density Waves(CDW) are broken symmetry states with interesting topological properties. In a 1d lattice with CDW instability, the \"translation-by-1-lattice-cell symmetry\" is spontaneously broken and a periodic charge density with a wave-vector corresponding to the chage filling sets in. For rational filling(the period of the charge density being an integer multiple of the lattice constant), a Reduced Brillouin Zone(RBZ) can be defined with bands of the original Brillouin Zone folded into the reduced zone (ref [1])."
   ]
  },
  {
   "cell_type": "markdown",
   "metadata": {},
   "source": [
    "The modulus of the order parameter of the CDW is $|\\Delta| = \\langle c_i^{\\dagger} c_i \\rangle = A cos(2\\pi n/N)$"
   ]
  },
  {
   "cell_type": "markdown",
   "metadata": {},
   "source": [
    "CDWs can be made to 'slide' or move across the spatial dimension by continuously varying the complex phase($\\phi$) of the order parameter $\\bf{\\Delta}=|\\Delta|e^{i\\phi}$. Changing $\\phi$ by $2 \\pi$ moves the order parameter back into itself. A two dimensional parameter space can be obtained for discrete values of wave-vector $\\bf{k}$ and phase $\\phi$. The Berry curvature in the 2d parameter space of $(\\bf{k}, \\phi)$ shows divergences indicating non-trivial topology."
   ]
  },
  {
   "cell_type": "markdown",
   "metadata": {},
   "source": [
    "In this notebook, we demonstrante the calculation of the Chern numbers in the gaps of a (p/q) filled Charge Density Waves for the (1/3) case i.e. p=1, q=3."
   ]
  },
  {
   "cell_type": "code",
   "execution_count": 143,
   "metadata": {},
   "outputs": [],
   "source": [
    "from qutip import *\n",
    "import matplotlib.pyplot as plt\n",
    "import numpy as np"
   ]
  },
  {
   "cell_type": "code",
   "execution_count": 160,
   "metadata": {},
   "outputs": [],
   "source": [
    "ntheta = 100\n",
    "nphi = 100\n",
    "q = 2"
   ]
  },
  {
   "cell_type": "code",
   "execution_count": 161,
   "metadata": {},
   "outputs": [
    {
     "name": "stdout",
     "output_type": "stream",
     "text": [
      "[0.         0.03173326 0.06346652 0.09519978 0.12693304 0.1586663\n",
      " 0.19039955 0.22213281 0.25386607 0.28559933 0.31733259 0.34906585\n",
      " 0.38079911 0.41253237 0.44426563 0.47599889 0.50773215 0.53946541\n",
      " 0.57119866 0.60293192 0.63466518 0.66639844 0.6981317  0.72986496\n",
      " 0.76159822 0.79333148 0.82506474 0.856798   0.88853126 0.92026451\n",
      " 0.95199777 0.98373103 1.01546429 1.04719755 1.07893081 1.11066407\n",
      " 1.14239733 1.17413059 1.20586385 1.23759711 1.26933037 1.30106362\n",
      " 1.33279688 1.36453014 1.3962634  1.42799666 1.45972992 1.49146318\n",
      " 1.52319644 1.5549297  1.58666296 1.61839622 1.65012947 1.68186273\n",
      " 1.71359599 1.74532925 1.77706251 1.80879577 1.84052903 1.87226229\n",
      " 1.90399555 1.93572881 1.96746207 1.99919533 2.03092858 2.06266184\n",
      " 2.0943951  2.12612836 2.15786162 2.18959488 2.22132814 2.2530614\n",
      " 2.28479466 2.31652792 2.34826118 2.37999443 2.41172769 2.44346095\n",
      " 2.47519421 2.50692747 2.53866073 2.57039399 2.60212725 2.63386051\n",
      " 2.66559377 2.69732703 2.72906028 2.76079354 2.7925268  2.82426006\n",
      " 2.85599332 2.88772658 2.91945984 2.9511931  2.98292636 3.01465962\n",
      " 3.04639288 3.07812614 3.10985939 3.14159265]\n",
      "[0.         0.06346652 0.12693304 0.19039955 0.25386607 0.31733259\n",
      " 0.38079911 0.44426563 0.50773215 0.57119866 0.63466518 0.6981317\n",
      " 0.76159822 0.82506474 0.88853126 0.95199777 1.01546429 1.07893081\n",
      " 1.14239733 1.20586385 1.26933037 1.33279688 1.3962634  1.45972992\n",
      " 1.52319644 1.58666296 1.65012947 1.71359599 1.77706251 1.84052903\n",
      " 1.90399555 1.96746207 2.03092858 2.0943951  2.15786162 2.22132814\n",
      " 2.28479466 2.34826118 2.41172769 2.47519421 2.53866073 2.60212725\n",
      " 2.66559377 2.72906028 2.7925268  2.85599332 2.91945984 2.98292636\n",
      " 3.04639288 3.10985939 3.17332591 3.23679243 3.30025895 3.36372547\n",
      " 3.42719199 3.4906585  3.55412502 3.61759154 3.68105806 3.74452458\n",
      " 3.8079911  3.87145761 3.93492413 3.99839065 4.06185717 4.12532369\n",
      " 4.1887902  4.25225672 4.31572324 4.37918976 4.44265628 4.5061228\n",
      " 4.56958931 4.63305583 4.69652235 4.75998887 4.82345539 4.88692191\n",
      " 4.95038842 5.01385494 5.07732146 5.14078798 5.2042545  5.26772102\n",
      " 5.33118753 5.39465405 5.45812057 5.52158709 5.58505361 5.64852012\n",
      " 5.71198664 5.77545316 5.83891968 5.9023862  5.96585272 6.02931923\n",
      " 6.09278575 6.15625227 6.21971879 6.28318531]\n"
     ]
    }
   ],
   "source": [
    "thetas = np.linspace(0, np.pi, ntheta)\n",
    "phis = np.linspace(0, 2*np.pi, nphi)\n",
    "print(thetas)\n",
    "print(phis)"
   ]
  },
  {
   "cell_type": "code",
   "execution_count": 162,
   "metadata": {},
   "outputs": [],
   "source": [
    "k1points = len(thetas); k2points = len(phis)\n",
    "parameter_space = np.meshgrid(thetas, phis)"
   ]
  },
  {
   "cell_type": "code",
   "execution_count": 163,
   "metadata": {},
   "outputs": [
    {
     "name": "stdout",
     "output_type": "stream",
     "text": [
      "(100, 100, 2, 2)\n"
     ]
    }
   ],
   "source": [
    "thetaA = parameter_space[0]\n",
    "phiA = parameter_space[1]        \n",
    "vecs_ks=np.zeros((k1points,k2points,q,q),dtype=complex)\n",
    "print(vecs_ks.shape)"
   ]
  },
  {
   "cell_type": "code",
   "execution_count": 164,
   "metadata": {},
   "outputs": [],
   "source": [
    "for ks in range(k1points):                # sweep over theta\n",
    "    for kt in range(k2points):            # sweep over phi        \n",
    "        theta = thetaA[kt,ks];  phi = phiA[kt,ks];\n",
    "        H = np.zeros( (2, 2),dtype=complex)\n",
    "\n",
    "        H = sigmax() * np.sin(theta) * np.cos(phi) + sigmay() * np.sin(theta) * np.sin(phi) + np.cos(theta) * sigmaz()\n",
    "\n",
    "        (vals, vecs)=np.linalg.eigh(H)\n",
    "        vecs=vecs * np.e**(-1.0j * phi)\n",
    "        vecs = vecs.T        \n",
    "        vecs_ks[ks,kt,:,:] = vecs[:,:]"
   ]
  },
  {
   "cell_type": "code",
   "execution_count": 165,
   "metadata": {},
   "outputs": [
    {
     "name": "stdout",
     "output_type": "stream",
     "text": [
      "(100, 100, 1, 2)\n"
     ]
    }
   ],
   "source": [
    "max_occ = 1\n",
    "occ_bnds = np.zeros((k1points,k2points,max_occ,2),dtype=complex)\n",
    "for i in range(max_occ):\n",
    "    occ_bnds[:,:,i,:] = vecs_ks[:,:,i+1,:]\n",
    "print(occ_bnds.shape)"
   ]
  },
  {
   "cell_type": "code",
   "execution_count": 170,
   "metadata": {},
   "outputs": [
    {
     "name": "stdout",
     "output_type": "stream",
     "text": [
      "0.0010072955363496221\n",
      "(99, 99)\n"
     ]
    },
    {
     "data": {
      "image/png": "[encoded data removed]",
      "text/plain": [
       "<Figure size 432x288 with 1 Axes>"
      ]
     },
     "metadata": {
      "needs_background": "light"
     },
     "output_type": "display_data"
    },
    {
     "name": "stdout",
     "output_type": "stream",
     "text": [
      "[  626.3348014    882.66889686   933.96546375   955.95922962\n",
      "   968.17629539   975.94197688   981.30448466   985.21965992\n",
      "   988.19354349   990.51911163   992.37773391   993.8876963\n",
      "   995.12943281   996.15954286   997.01900796   997.73822748\n",
      "   998.34022289   998.84274305   999.2596864    999.60208515\n",
      "   999.87880117  1000.09702719  1000.26265405  1000.38054386\n",
      "  1000.45473575  1000.48860296  1000.48497385  1000.44622617\n",
      "  1000.37436102  1000.27106132  1000.13773836   999.97556895\n",
      "   999.78552527   999.5683988    999.32481959   999.0552716\n",
      "   998.76010503   998.43954589   998.09370343   997.72257569\n",
      "   997.3260534    996.90392238   996.45586469   995.98145854\n",
      "   995.48017707   994.95138598   994.39434007   993.80817868\n",
      "   993.19191991   992.54445365   991.8645332    991.15076547\n",
      "   990.40159952   989.61531325   988.78999801   987.92354084\n",
      "   987.01360387   986.05760067   985.05266876   983.9956378\n",
      "   982.88299265   981.71083035   980.47480986   979.17009311\n",
      "   977.79127572   976.33230506   974.78638316   973.14585083\n",
      "   971.40204896   969.54515135   967.56396229   965.44566975\n",
      "   963.17554256   960.73655615   958.10892647   955.2695248\n",
      "   952.19113624   948.84151116   945.18213878   941.16664328\n",
      "   936.73865946   931.82897994   926.35166469   920.19864445\n",
      "   913.23209083   905.27339518   896.0868571    885.35486235\n",
      "   872.63887662   857.31580351   838.46941859   814.69495046\n",
      "   783.72327503   741.63513983   681.02768712   586.03787404\n",
      "   415.42210089    17.95435352 -1967.3979447 ]\n",
      "[ 1.58500015e-02  1.58008822e-02  1.57041878e-02  1.55282523e-02\n",
      "  1.52414847e-02  1.48123998e-02  1.42096482e-02  1.34020461e-02\n",
      "  1.23586054e-02  1.10485634e-02  9.44141288e-03  7.50693108e-03\n",
      "  5.21520962e-03  2.53668351e-03 -5.57839734e-04 -4.09715131e-03\n",
      " -8.10961252e-03 -1.26231265e-02 -1.76651101e-02 -2.32624665e-02\n",
      " -2.94415575e-02 -3.62281768e-02 -4.36475233e-02 -5.17241752e-02\n",
      " -6.04820645e-02 -6.99444512e-02 -8.01338998e-02 -9.10722542e-02\n",
      " -1.02780615e-01 -1.15279318e-01 -1.28587908e-01 -1.42725124e-01\n",
      " -1.57708871e-01 -1.73556207e-01 -1.90283321e-01 -2.07905516e-01\n",
      " -2.26437188e-01 -2.45891816e-01 -2.66281943e-01 -2.87619161e-01\n",
      " -3.09914102e-01 -3.33176421e-01 -3.57414786e-01 -3.82636871e-01\n",
      " -4.08849344e-01 -4.36057861e-01 -4.64267058e-01 -4.93480546e-01\n",
      " -5.23700909e-01 -5.54929697e-01 -5.87167428e-01 -6.20413583e-01\n",
      " -6.54666613e-01 -6.89923934e-01 -7.26181935e-01 -7.63435980e-01\n",
      " -8.01680413e-01 -8.40908567e-01 -8.81112767e-01 -9.22284344e-01\n",
      " -9.64413644e-01 -1.00749003e+00 -1.05150193e+00 -1.09643677e+00\n",
      " -1.14228110e+00 -1.18902050e+00 -1.23663968e+00 -1.28512245e+00\n",
      " -1.33445176e+00 -1.38460968e+00 -1.43557750e+00 -1.48733566e+00\n",
      " -1.53986382e+00 -1.59314089e+00 -1.64714502e+00 -1.70185365e+00\n",
      " -1.75724352e+00 -1.81329069e+00 -1.86997059e+00 -1.92725801e+00\n",
      " -1.98512718e+00 -2.04355171e+00 -2.10250471e+00 -2.16195877e+00\n",
      " -2.22188598e+00 -2.28225797e+00 -2.34304597e+00 -2.40422076e+00\n",
      " -2.46575280e+00 -2.52761217e+00 -2.58976864e+00 -2.65219172e+00\n",
      " -2.71485064e+00 -2.77771440e+00 -2.84075184e+00 -2.90393159e+00\n",
      " -2.96722217e+00 -3.03059199e+00 -3.09400939e+00]\n"
     ]
    },
    {
     "data": {
      "image/png": "[encoded data removed]",
      "text/plain": [
       "<Figure size 432x288 with 1 Axes>"
      ]
     },
     "metadata": {
      "needs_background": "light"
     },
     "output_type": "display_data"
    },
    {
     "name": "stdout",
     "output_type": "stream",
     "text": [
      "[0.00000000e+00 1.58639667e-02 3.17119598e-02 4.75280217e-02\n",
      " 6.32962268e-02 7.90006980e-02 9.46256222e-02 1.10155266e-01\n",
      " 1.25573994e-01 1.40866278e-01 1.56016723e-01 1.71010072e-01\n",
      " 1.85831228e-01 2.00465268e-01 2.14897456e-01 2.29113261e-01\n",
      " 2.43098368e-01 2.56838696e-01 2.70320409e-01 2.83529932e-01\n",
      " 2.96453965e-01 3.09079493e-01 3.21393805e-01 3.33384500e-01\n",
      " 3.45039506e-01 3.56347086e-01 3.67295854e-01 3.77874787e-01\n",
      " 3.88073232e-01 3.97880920e-01 4.07287976e-01 4.16284927e-01\n",
      " 4.24862715e-01 4.33012702e-01 4.40726682e-01 4.47996887e-01\n",
      " 4.54815998e-01 4.61177147e-01 4.67073930e-01 4.72500409e-01\n",
      " 4.77451121e-01 4.81921079e-01 4.85905784e-01 4.89401223e-01\n",
      " 4.92403877e-01 4.94910721e-01 4.96919232e-01 4.98427388e-01\n",
      " 4.99433670e-01 4.99937064e-01 4.99937064e-01 4.99433670e-01\n",
      " 4.98427388e-01 4.96919232e-01 4.94910721e-01 4.92403877e-01\n",
      " 4.89401223e-01 4.85905784e-01 4.81921079e-01 4.77451121e-01\n",
      " 4.72500409e-01 4.67073930e-01 4.61177147e-01 4.54815998e-01\n",
      " 4.47996887e-01 4.40726682e-01 4.33012702e-01 4.24862715e-01\n",
      " 4.16284927e-01 4.07287976e-01 3.97880920e-01 3.88073232e-01\n",
      " 3.77874787e-01 3.67295854e-01 3.56347086e-01 3.45039506e-01\n",
      " 3.33384500e-01 3.21393805e-01 3.09079493e-01 2.96453965e-01\n",
      " 2.83529932e-01 2.70320409e-01 2.56838696e-01 2.43098368e-01\n",
      " 2.29113261e-01 2.14897456e-01 2.00465268e-01 1.85831228e-01\n",
      " 1.71010072e-01 1.56016723e-01 1.40866278e-01 1.25573994e-01\n",
      " 1.10155266e-01 9.46256222e-02 7.90006980e-02 6.32962268e-02\n",
      " 4.75280217e-02 3.17119598e-02 1.58639667e-02 6.12323400e-17]\n"
     ]
    }
   ],
   "source": [
    "plot_berry_curvature(occ_bnds)\n",
    "b = berry_curvature(occ_bnds)\n",
    "print(np.max(b))\n",
    "print(b.shape)\n",
    "plt.show()\n",
    "print(np.sin(np.linspace(1/ntheta, np.pi*(1 + 1/ntheta), ntheta - 1))/b[:, 0])\n",
    "print(b[:, 0] * 992.75730301 - thetas[:-1])\n",
    "plt.plot(np.linspace(0, np.pi, ntheta-1), 1000*b[:, 0])\n",
    "plt.show()\n",
    "print(0.5*np.sin(thetas))"
   ]
  },
  {
   "cell_type": "code",
   "execution_count": 73,
   "metadata": {},
   "outputs": [
    {
     "name": "stdout",
     "output_type": "stream",
     "text": [
      "The Chern number is:\n",
      "1.0000000000000004\n"
     ]
    }
   ],
   "source": [
    "b_curv = berry_curvature(occ_bnds)\n",
    "# The numerical integration amounts to summing up the discretized Berry curvature.\n",
    "print('The Chern number is:')\n",
    "print(b_curv.sum()/2/np.pi )"
   ]
  },
  {
   "cell_type": "markdown",
   "metadata": {},
   "source": [
    "Therefore, the Chern number in the bandgap above the lowest band is 1."
   ]
  },
  {
   "cell_type": "code",
   "execution_count": 153,
   "metadata": {},
   "outputs": [
    {
     "name": "stdout",
     "output_type": "stream",
     "text": [
      "The Chern number is:\n",
      "-5.093699863815549e-16\n",
      "The chern nuber of two filled bands is 0. Nonzero chern number can be found in the gap. The only gap is between the two bands.\n",
      "To calculate the chern numbers of 1 filled band, the number of occupied band(max_occ) would be 1.\n",
      "(50, 50, 1, 2)\n",
      "The Chern number is:\n",
      "1.0000000000000002\n",
      "All columns of b_curv should be proportional to sin(\theta)\n"
     ]
    },
    {
     "data": {
      "image/png": "[encoded data removed]",
      "text/plain": [
       "<Figure size 432x288 with 1 Axes>"
      ]
     },
     "metadata": {
      "needs_background": "light"
     },
     "output_type": "display_data"
    },
    {
     "data": {
      "image/png": "[encoded data removed]",
      "text/plain": [
       "<Figure size 432x288 with 1 Axes>"
      ]
     },
     "metadata": {
      "needs_background": "light"
     },
     "output_type": "display_data"
    },
    {
     "data": {
      "image/png": "[encoded data removed]",
      "text/plain": [
       "<Figure size 432x288 with 1 Axes>"
      ]
     },
     "metadata": {
      "needs_background": "light"
     },
     "output_type": "display_data"
    },
    {
     "name": "stdout",
     "output_type": "stream",
     "text": [
      "All rows of b_curv should be constant\n"
     ]
    },
    {
     "data": {
      "image/png": "[encoded data removed]",
      "text/plain": [
       "<Figure size 432x288 with 1 Axes>"
      ]
     },
     "metadata": {
      "needs_background": "light"
     },
     "output_type": "display_data"
    }
   ],
   "source": [
    "#!/usr/bin/env python3\n",
    "# -*- coding: utf-8 -*-\n",
    "\"\"\"\n",
    "Created on Sun Aug 25 01:17:26 2019\n",
    "\n",
    "@author: ssaumya7\n",
    "\"\"\"\n",
    "from qutip import *\n",
    "import numpy as np\n",
    "import matplotlib.pyplot as plt\n",
    "from matplotlib.pyplot import *\n",
    "\n",
    "\n",
    "N = 50\n",
    "thetas = np.linspace(0, np.pi, N)\n",
    "phis = np.linspace(0, 2*np.pi, N)\n",
    "eigfs = np.zeros((N, N, 2, 2), dtype=complex)\n",
    "for i in range(N):\n",
    "    for j in range(N):\n",
    "        # H = B.sigma, sigma is vector of Pauli matrices\n",
    "        H = sigmax() * np.sin(thetas[i]) * np.cos(phis[j]) + sigmay() * np.sin(thetas[i]) * np.sin(phis[j]) + np.cos(thetas[i]) * sigmaz()\n",
    "        H = -H             #Figure this out please\n",
    "        _, eigs = np.linalg.eigh(H)\n",
    "        eigs=eigs.T        # the eigenvectors need to be rows in eigfs\n",
    "        eigfs[i, j, :, :] = eigs[:, :]\n",
    "b_curv = berry_curvature(eigfs)\n",
    "plot_berry_curvature(eigfs)\n",
    "\n",
    "print('The Chern number is:')\n",
    "print(b_curv.sum()/2/np.pi )\n",
    "print('The chern nuber of two filled bands is 0. Nonzero chern number can be found in the gap. The only gap is between the two bands.')\n",
    "print('To calculate the chern numbers of 1 filled band, the number of occupied band(max_occ) would be 1.')\n",
    "\n",
    "\n",
    "max_occ = 1\n",
    "occ_bnds = np.zeros((N,N,max_occ,2),dtype=complex)\n",
    "for i in range(max_occ):\n",
    "    occ_bnds[:,:,i,:] = eigfs[:,:,i,:]\n",
    "\n",
    "print(np.shape(occ_bnds))  \n",
    "\n",
    "b_curv = berry_curvature(occ_bnds)\n",
    "plot_berry_curvature(occ_bnds)\n",
    "print('The Chern number is:')\n",
    "print(b_curv.sum()/2/np.pi )\n",
    "\n",
    "\n",
    "print('All columns of b_curv should be proportional to sin(\\theta)')\n",
    "sinn = b_curv[:,1]\n",
    "fig, ax = subplots()\n",
    "ax.plot(thetas[0:N-1], b_curv[:,5]);\n",
    "show()\n",
    "\n",
    "print('All rows of b_curv should be constant')\n",
    "fig, ax = subplots()\n",
    "ax.plot(thetas[0:N-1], b_curv[20,:]);\n",
    "show()\n",
    "\n"
   ]
  },
  {
   "cell_type": "code",
   "execution_count": 11,
   "metadata": {},
   "outputs": [
    {
     "name": "stdout",
     "output_type": "stream",
     "text": [
      "The Chern number is:\n",
      "-2.0403523087557085e-16\n"
     ]
    }
   ],
   "source": [
    "max_occ = 3\n",
    "occ_bnds = np.zeros((k1points,k2points,max_occ,3),dtype=complex)\n",
    "for i in range(max_occ):\n",
    "    occ_bnds[:,:,i,:] = vecs_ks[:,:,i,:]\n",
    "b_curv = berry_curvature(occ_bnds)\n",
    "# The numerical integration amounts to summing up the discretized Berry curvature.\n",
    "print('The Chern number is:')\n",
    "print(b_curv.sum()/2/np.pi )"
   ]
  },
  {
   "cell_type": "markdown",
   "metadata": {},
   "source": [
    "After, subsequent calculation of the Chern number in the gaps over the middle band and the topmost band, we\n",
    "can conclude thee Chern numbers in the three gaps are ${1, -2, 1}$ respectively."
   ]
  },
  {
   "cell_type": "markdown",
   "metadata": {},
   "source": [
    "### References\n",
    "[1] Flicker, Felix. The Geometry and Topology of Change-ordered Quantum Fields in Low-dimensional Systems. Diss. University of Bristol, 2015.\n",
    "http://www.felixflicker.com/pdf/papers/FLICKER_PhD_Thesis.pdf"
   ]
  },
  {
   "cell_type": "code",
   "execution_count": 76,
   "metadata": {},
   "outputs": [
    {
     "name": "stdout",
     "output_type": "stream",
     "text": [
      "\n",
      "QuTiP: Quantum Toolbox in Python\n",
      "================================\n",
      "Copyright (c) QuTiP team 2011 and later.\n",
      "Original developers: R. J. Johansson & P. D. Nation.\n",
      "Current admin team: Alexander Pitchford, Paul D. Nation, Nathan Shammah, Shahnawaz Ahmed, Neill Lambert, and Eric Giguère.\n",
      "Project Manager: Franco Nori.\n",
      "Currently developed through wide collaboration. See https://github.com/qutip for details.\n",
      "\n",
      "QuTiP Version:      4.5.0.dev0+c8074e5\n",
      "Numpy Version:      1.15.2\n",
      "Scipy Version:      1.1.0\n",
      "Cython Version:     0.28.5\n",
      "Matplotlib Version: 3.0.0\n",
      "Python Version:     3.5.4\n",
      "Number of CPUs:     2\n",
      "BLAS Info:          INTEL MKL\n",
      "OPENMP Installed:   True\n",
      "INTEL MKL Ext:      True\n",
      "Platform Info:      Linux (x86_64)\n",
      "Installation path:  /home/ssaumya7/Desktop/GSOC/Aug5/qutip/qutip\n",
      "==============================================================================\n",
      "Please cite QuTiP in your publication.\n",
      "==============================================================================\n",
      "For your convenience a bibtex reference can be easily generated using `qutip.cite()`\n"
     ]
    }
   ],
   "source": [
    "qutip.about()"
   ]
  },
  {
   "cell_type": "code",
   "execution_count": 77,
   "metadata": {},
   "outputs": [
    {
     "name": "stdout",
     "output_type": "stream",
     "text": [
      "@article{qutip2,\n",
      "doi = {10.1016/j.cpc.2012.11.019},\n",
      "url = {https://doi.org/10.1016/j.cpc.2012.11.019},\n",
      "year  = {2013},\n",
      "month = {apr},\n",
      "publisher = {Elsevier {BV}},\n",
      "volume = {184},\n",
      "number = {4},\n",
      "pages = {1234--1240},\n",
      "author = {J.R. Johansson and P.D. Nation and F. Nori},\n",
      "title = {{QuTiP} 2: A {P}ython framework for the dynamics of open quantum systems},\n",
      "journal = {Computer Physics Communications}\n",
      "}\n",
      "@article{qutip1,\n",
      "doi = {10.1016/j.cpc.2012.02.021},\n",
      "url = {https://doi.org/10.1016/j.cpc.2012.02.021},\n",
      "year  = {2012},\n",
      "month = {aug},\n",
      "publisher = {Elsevier {BV}},\n",
      "volume = {183},\n",
      "number = {8},\n",
      "pages = {1760--1772},\n",
      "author = {J.R. Johansson and P.D. Nation and F. Nori},\n",
      "title = {{QuTiP}: An open-source {P}ython framework for the dynamics of open quantum systems},\n",
      "journal = {Computer Physics Communications}\n",
      "}\n"
     ]
    }
   ],
   "source": [
    "qutip.cite()"
   ]
  }
 ],
 "metadata": {
  "kernelspec": {
   "display_name": "Python 3",
   "language": "python",
   "name": "python3"
  },
  "language_info": {
   "codemirror_mode": {
    "name": "ipython",
    "version": 3
   },
   "file_extension": ".py",
   "mimetype": "text/x-python",
   "name": "python",
   "nbconvert_exporter": "python",
   "pygments_lexer": "ipython3",
   "version": "3.8.3"
  }
 },
 "nbformat": 4,
 "nbformat_minor": 2
}
