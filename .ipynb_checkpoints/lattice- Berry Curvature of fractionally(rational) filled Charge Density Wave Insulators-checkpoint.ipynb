{
 "cells": [
  {
   "cell_type": "markdown",
   "metadata": {},
   "source": [
    "# Chern Numbers of (rational)fractionally filled 1d Charge Density Wave Insulators"
   ]
  },
  {
   "cell_type": "markdown",
   "metadata": {},
   "source": [
    "Saumya Biswas (saumyab@uoregon.edu)"
   ]
  },
  {
   "cell_type": "markdown",
   "metadata": {},
   "source": [
    "1d Charge Density Waves(CDW) are broken symmetry states with interesting topological properties. In a 1d lattice with CDW instability, the \"translation-by-1-lattice-cell symmetry\" is spontaneously broken and a periodic charge density with a wave-vector corresponding to the chage filling sets in. For rational filling(the period of the charge density being an integer multiple of the lattice constant), a Reduced Brillouin Zone(RBZ) can be defined with bands of the original Brillouin Zone folded into the reduced zone (ref [1])."
   ]
  },
  {
   "cell_type": "markdown",
   "metadata": {},
   "source": [
    "The modulus of the order parameter of the CDW is $|\\Delta| = \\langle c_i^{\\dagger} c_i \\rangle = A cos(2\\pi n/N)$"
   ]
  },
  {
   "cell_type": "markdown",
   "metadata": {},
   "source": [
    "CDWs can be made to 'slide' or move across the spatial dimension by continuously varying the complex phase($\\phi$) of the order parameter $\\bf{\\Delta}=|\\Delta|e^{i\\phi}$. Changing $\\phi$ by $2 \\pi$ moves the order parameter back into itself. A two dimensional parameter space can be obtained for discrete values of wave-vector $\\bf{k}$ and phase $\\phi$. The Berry curvature in the 2d parameter space of $(\\bf{k}, \\phi)$ shows divergences indicating non-trivial topology."
   ]
  },
  {
   "cell_type": "markdown",
   "metadata": {},
   "source": [
    "In this notebook, we demonstrante the calculation of the Chern numbers in the gaps of a (p/q) filled Charge Density Waves for the (1/3) case i.e. p=1, q=3."
   ]
  },
  {
   "cell_type": "code",
   "execution_count": 1,
   "metadata": {},
   "outputs": [],
   "source": [
    "from qutip import *\n",
    "import matplotlib.pyplot as plt\n",
    "import numpy as np"
   ]
  },
  {
   "cell_type": "code",
   "execution_count": 2,
   "metadata": {},
   "outputs": [],
   "source": [
    "nkx = 100\n",
    "nphi = 100\n",
    "t = -1\n",
    "Delta = 1\n",
    "p = 1\n",
    "q = 3\n",
    "Q = 2*np.pi/q"
   ]
  },
  {
   "cell_type": "code",
   "execution_count": 3,
   "metadata": {},
   "outputs": [],
   "source": [
    "dkx = 2*np.pi/q/nkx\n",
    "dphi = 2*np.pi/nphi\n",
    "kxs = np.arange(0, 2*np.pi/q+dkx, dkx)\n",
    "phis = np.arange(0, 2*np.pi+dphi, dphi)"
   ]
  },
  {
   "cell_type": "code",
   "execution_count": 4,
   "metadata": {},
   "outputs": [],
   "source": [
    "k1points = len(kxs); k2points = len(phis)\n",
    "parameter_space = np.meshgrid(kxs, phis)"
   ]
  },
  {
   "cell_type": "code",
   "execution_count": 5,
   "metadata": {},
   "outputs": [],
   "source": [
    "kxA = parameter_space[0]\n",
    "phiA = parameter_space[1]        \n",
    "vecs_ks=np.zeros((k1points,k2points,q,q),dtype=complex)"
   ]
  },
  {
   "cell_type": "markdown",
   "metadata": {},
   "source": [
    "From ref [1], the k-space Hamiltonian for a $1/3$ filled CDW insulator is\n",
    "\\begin{eqnarray}\n",
    "H_{k, \\phi}= \\begin{bmatrix}\n",
    "    c_{k}^{\\dagger} & c_{k+Q}^{\\dagger} & c_{k+2Q}^{\\dagger}       \n",
    "\\end{bmatrix} \n",
    "\\begin{bmatrix}\n",
    "      2t cos(k_xa)     & \\Delta e^{i\\phi} & \\Delta e^{-i\\phi} \\\\\n",
    "\\Delta e^{-i\\phi} & 2t cos((k_x+Q)a) & \\Delta e^{i\\phi} \\\\\n",
    "\\Delta e^{i\\phi} & \\Delta e^{-i\\phi} & 2t cos((k_x+2Q)a)\n",
    "\\end{bmatrix}\n",
    "\\begin{bmatrix}\n",
    "    c_{k}  \\\\\n",
    "    c_{k+Q} \\\\\n",
    "    c_{k+2Q}\n",
    "\\end{bmatrix}\n",
    "\\end{eqnarray}"
   ]
  },
  {
   "cell_type": "code",
   "execution_count": 6,
   "metadata": {},
   "outputs": [],
   "source": [
    "for ks in range(k1points):                # sweep over kx\n",
    "    for kt in range(k2points):            # sweep over phi        \n",
    "        kx = kxA[kt,ks];  phi = phiA[kt,ks];\n",
    "        Odat = np.zeros( (3, 3),dtype=complex)\n",
    "\n",
    "        Odat[0, 0] = 2 * t * np.cos(kx)\n",
    "        Odat[1, 1] = 2 * t * np.cos(kx+ Q)\n",
    "        Odat[2, 2] = 2 * t * np.cos(kx+ 2*Q)\n",
    "\n",
    "        Odat[0, 1] = Delta * np.exp(phi *1j)\n",
    "        Odat[0, 2] = Delta * np.cos(-phi *1j)\n",
    "        Odat[1, 2] = Delta * np.cos(phi *1j)\n",
    "                \n",
    "        Odat[1, 0] = Delta * np.exp(-phi *1j)\n",
    "        Odat[2, 0] = Delta * np.exp(phi *1j)\n",
    "        Odat[2, 1] = Delta * np.exp(-phi *1j)\n",
    "\n",
    "        (vals, vecs)=np.linalg.eigh(Odat)\n",
    "        vecs=vecs.T        \n",
    "        vecs_ks[ks,kt,:,:] = vecs[:,:]"
   ]
  },
  {
   "cell_type": "code",
   "execution_count": 7,
   "metadata": {},
   "outputs": [],
   "source": [
    "max_occ = 1\n",
    "occ_bnds = np.zeros((k1points,k2points,max_occ,3),dtype=complex)\n",
    "for i in range(max_occ):\n",
    "    occ_bnds[:,:,i,:] = vecs_ks[:,:,i,:]"
   ]
  },
  {
   "cell_type": "code",
   "execution_count": 8,
   "metadata": {},
   "outputs": [
    {
     "data": {
      "image/png": "[encoded data removed]",
      "text/plain": [
       "<Figure size 432x288 with 1 Axes>"
      ]
     },
     "metadata": {
      "needs_background": "light"
     },
     "output_type": "display_data"
    }
   ],
   "source": [
    "plot_berry_curvature(occ_bnds)"
   ]
  },
  {
   "cell_type": "code",
   "execution_count": 9,
   "metadata": {},
   "outputs": [
    {
     "name": "stdout",
     "output_type": "stream",
     "text": [
      "The Chern number is:\n",
      "1.0000000000000004\n"
     ]
    }
   ],
   "source": [
    "b_curv = berry_curvature(occ_bnds)\n",
    "# The numerical integration amounts to summing up the discretized Berry curvature.\n",
    "print('The Chern number is:')\n",
    "print(b_curv.sum()/2/np.pi )"
   ]
  },
  {
   "cell_type": "markdown",
   "metadata": {},
   "source": [
    "Therefore, the Chern number in the bandgap above the lowest band is 1."
   ]
  },
  {
   "cell_type": "code",
   "execution_count": 10,
   "metadata": {},
   "outputs": [
    {
     "name": "stdout",
     "output_type": "stream",
     "text": [
      "The Chern number is:\n",
      "-1.0000000000000002\n"
     ]
    }
   ],
   "source": [
    "max_occ = 2\n",
    "occ_bnds = np.zeros((k1points,k2points,max_occ,3),dtype=complex)\n",
    "for i in range(max_occ):\n",
    "    occ_bnds[:,:,i,:] = vecs_ks[:,:,i,:]\n",
    "b_curv = berry_curvature(occ_bnds)\n",
    "# The numerical integration amounts to summing up the discretized Berry curvature.\n",
    "print('The Chern number is:')\n",
    "print(b_curv.sum()/2/np.pi )"
   ]
  },
  {
   "cell_type": "code",
   "execution_count": 11,
   "metadata": {},
   "outputs": [
    {
     "name": "stdout",
     "output_type": "stream",
     "text": [
      "The Chern number is:\n",
      "-2.0403523087557085e-16\n"
     ]
    }
   ],
   "source": [
    "max_occ = 3\n",
    "occ_bnds = np.zeros((k1points,k2points,max_occ,3),dtype=complex)\n",
    "for i in range(max_occ):\n",
    "    occ_bnds[:,:,i,:] = vecs_ks[:,:,i,:]\n",
    "b_curv = berry_curvature(occ_bnds)\n",
    "# The numerical integration amounts to summing up the discretized Berry curvature.\n",
    "print('The Chern number is:')\n",
    "print(b_curv.sum()/2/np.pi )"
   ]
  },
  {
   "cell_type": "markdown",
   "metadata": {},
   "source": [
    "After, subsequent calculation of the Chern number in the gaps over the middle band and the topmost band, we\n",
    "can conclude thee Chern numbers in the three gaps are ${1, -2, 1}$ respectively."
   ]
  },
  {
   "cell_type": "markdown",
   "metadata": {},
   "source": [
    "### References\n",
    "[1] Flicker, Felix. The Geometry and Topology of Change-ordered Quantum Fields in Low-dimensional Systems. Diss. University of Bristol, 2015.\n",
    "http://www.felixflicker.com/pdf/papers/FLICKER_PhD_Thesis.pdf"
   ]
  },
  {
   "cell_type": "code",
   "execution_count": 76,
   "metadata": {},
   "outputs": [
    {
     "name": "stdout",
     "output_type": "stream",
     "text": [
      "\n",
      "QuTiP: Quantum Toolbox in Python\n",
      "================================\n",
      "Copyright (c) QuTiP team 2011 and later.\n",
      "Original developers: R. J. Johansson & P. D. Nation.\n",
      "Current admin team: Alexander Pitchford, Paul D. Nation, Nathan Shammah, Shahnawaz Ahmed, Neill Lambert, and Eric Giguère.\n",
      "Project Manager: Franco Nori.\n",
      "Currently developed through wide collaboration. See https://github.com/qutip for details.\n",
      "\n",
      "QuTiP Version:      4.5.0.dev0+c8074e5\n",
      "Numpy Version:      1.15.2\n",
      "Scipy Version:      1.1.0\n",
      "Cython Version:     0.28.5\n",
      "Matplotlib Version: 3.0.0\n",
      "Python Version:     3.5.4\n",
      "Number of CPUs:     2\n",
      "BLAS Info:          INTEL MKL\n",
      "OPENMP Installed:   True\n",
      "INTEL MKL Ext:      True\n",
      "Platform Info:      Linux (x86_64)\n",
      "Installation path:  /home/ssaumya7/Desktop/GSOC/Aug5/qutip/qutip\n",
      "==============================================================================\n",
      "Please cite QuTiP in your publication.\n",
      "==============================================================================\n",
      "For your convenience a bibtex reference can be easily generated using `qutip.cite()`\n"
     ]
    }
   ],
   "source": [
    "qutip.about()"
   ]
  },
  {
   "cell_type": "code",
   "execution_count": 77,
   "metadata": {},
   "outputs": [
    {
     "name": "stdout",
     "output_type": "stream",
     "text": [
      "@article{qutip2,\n",
      "doi = {10.1016/j.cpc.2012.11.019},\n",
      "url = {https://doi.org/10.1016/j.cpc.2012.11.019},\n",
      "year  = {2013},\n",
      "month = {apr},\n",
      "publisher = {Elsevier {BV}},\n",
      "volume = {184},\n",
      "number = {4},\n",
      "pages = {1234--1240},\n",
      "author = {J.R. Johansson and P.D. Nation and F. Nori},\n",
      "title = {{QuTiP} 2: A {P}ython framework for the dynamics of open quantum systems},\n",
      "journal = {Computer Physics Communications}\n",
      "}\n",
      "@article{qutip1,\n",
      "doi = {10.1016/j.cpc.2012.02.021},\n",
      "url = {https://doi.org/10.1016/j.cpc.2012.02.021},\n",
      "year  = {2012},\n",
      "month = {aug},\n",
      "publisher = {Elsevier {BV}},\n",
      "volume = {183},\n",
      "number = {8},\n",
      "pages = {1760--1772},\n",
      "author = {J.R. Johansson and P.D. Nation and F. Nori},\n",
      "title = {{QuTiP}: An open-source {P}ython framework for the dynamics of open quantum systems},\n",
      "journal = {Computer Physics Communications}\n",
      "}\n"
     ]
    }
   ],
   "source": [
    "qutip.cite()"
   ]
  }
 ],
 "metadata": {
  "kernelspec": {
   "display_name": "Python 3",
   "language": "python",
   "name": "python3"
  },
  "language_info": {
   "codemirror_mode": {
    "name": "ipython",
    "version": 3
   },
   "file_extension": ".py",
   "mimetype": "text/x-python",
   "name": "python",
   "nbconvert_exporter": "python",
   "pygments_lexer": "ipython3",
   "version": "3.8.3"
  }
 },
 "nbformat": 4,
 "nbformat_minor": 2
}
